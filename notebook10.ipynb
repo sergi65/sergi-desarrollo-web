{
 "cells": [
  {
   "cell_type": "markdown",
   "metadata": {},
   "source": [
    "# 📌 Proyecto Final – POC con Fast Prompting\n",
    "### Autor: *Tu Nombre*\n",
    "\n",
    "## 1. Problemática\n",
    "Los pequeños negocios y emprendedores suelen tener dificultades para crear **contenido atractivo** (textos e imágenes) para promocionar sus productos. Esto se debe a la falta de presupuesto para contratar diseñadores o redactores de marketing.\n",
    "\n",
    "## 2. Solución propuesta\n",
    "Se desarrollará una **POC (proof of concept)** que aproveche **Fast Prompting** con modelos:\n",
    "- **Texto → Texto** para generar descripciones de productos y slogans.\n",
    "- **Texto → Imagen** para crear imágenes promocionales.\n",
    "\n",
    "## 3. Objetivo\n",
    "- Mostrar cómo un buen diseño de prompts mejora la calidad de los resultados.\n",
    "- Demostrar cómo esta técnica puede ayudar a pequeños negocios a generar contenido de manera autónoma."
   ]
  },
  {
   "cell_type": "markdown",
   "metadata": {},
   "source": [
    "## 4. Texto → Texto (Generación de descripciones)\n",
    "Ejemplo con prompts básicos vs optimizados."
   ]
  },
  {
   "cell_type": "code",
   "execution_count": null,
   "metadata": {},
   "outputs": [],
   "source": [
    "from openai import OpenAI\n",
    "\n",
    "client = OpenAI()\n",
    "\n",
    "# Prompt básico\n",
    "prompt_basico = \"Escribe una descripción de un café.\"\n",
    "\n",
    "response_basico = client.chat.completions.create(\n",
    "    model=\"gpt-4o-mini\",\n",
    "    messages=[{\"role\": \"user\", \"content\": prompt_basico}]\n",
    ")\n",
    "print(\"Prompt básico:\", response_basico.choices[0].message.content)\n",
    "\n",
    "# Prompt optimizado con Fast Prompting\n",
    "prompt_optimo = \"Escribe una descripción atractiva de un café premium colombiano de origen, pensada para un público joven que busca energía y calidad. Limítala a 3 frases persuasivas.\"\n",
    "\n",
    "response_optimo = client.chat.completions.create(\n",
    "    model=\"gpt-4o-mini\",\n",
    "    messages=[{\"role\": \"user\", \"content\": prompt_optimo}]\n",
    ")\n",
    "print(\"\\nPrompt optimizado:\", response_optimo.choices[0].message.content)"
   ]
  },
  {
   "cell_type": "markdown",
   "metadata": {},
   "source": [
    "## 5. Texto → Imagen (Generación de imágenes promocionales)\n",
    "Ejemplo con prompts simples vs optimizados."
   ]
  },
  {
   "cell_type": "code",
   "execution_count": null,
   "metadata": {},
   "outputs": [],
   "source": [
    "# Prompt básico para imagen\n",
    "prompt_img_basico = \"Imagen de una taza de café.\"\n",
    "\n",
    "image_basico = client.images.generate(\n",
    "    model=\"gpt-image-1\",\n",
    "    prompt=prompt_img_basico,\n",
    "    size=\"512x512\"\n",
    ")\n",
    "print(\"Imagen básica generada:\", image_basico.data[0].url)\n",
    "\n",
    "# Prompt optimizado para imagen\n",
    "prompt_img_optimo = \"Genera una imagen fotorrealista de una taza de café premium colombiano, servida en una mesa rústica de madera, con granos de café alrededor y luz cálida de la mañana. Estilo: realismo publicitario.\"\n",
    "\n",
    "image_optimo = client.images.generate(\n",
    "    model=\"gpt-image-1\",\n",
    "    prompt=prompt_img_optimo,\n",
    "    size=\"512x512\"\n",
    ")\n",
    "print(\"\\nImagen optimizada generada:\", image_optimo.data[0].url)"
   ]
  },
  {
   "cell_type": "markdown",
   "metadata": {},
   "source": [
    "## 6. Conclusiones\n",
    "- Los resultados muestran que **Fast Prompting** mejora significativamente la calidad de las salidas.\n",
    "- El modelo texto → texto permite crear descripciones personalizadas y slogans de manera rápida.\n",
    "- El modelo texto → imagen genera contenido visual atractivo para campañas.\n",
    "- Esta POC demuestra que pequeños negocios pueden aprovechar estas herramientas sin depender de terceros."
   ]
  }
 ],
 "metadata": {
  "kernelspec": {
   "display_name": "Python 3",
   "language": "python",
   "name": "python3"
  },
  "language_info": {
   "name": "python",
   "version": "3.10"
  }
 },
 "nbformat": 4,
 "nbformat_minor": 5
}
